{
 "cells": [
  {
   "cell_type": "code",
   "execution_count": null,
   "metadata": {},
   "outputs": [],
   "source": [
    "# First of all the necessary os package is imported, because here in this file,\n",
    "# the train, test, and validation directory paths will be congigured to be used\n",
    "# in the other parts of the code.\n",
    "\n",
    "import os\n",
    "\n",
    "\n",
    "\n",
    "ORIGINAL_PATH = 'malaria_dataset/cell_images'\n",
    "\n",
    "\n",
    "# After the train, test and validation splits are generated, the new data will be added\n",
    "# into different directories, it is good to have base directory.\n",
    "\n",
    "BASE_PATH = 'malaria_dataset'\n",
    "\n",
    "TRAIN_PATH = os.path.sep.join(BASE_PATH, 'train')\n",
    "TEST_PATH = os.path.sep.join(BASE_PATH, 'test')\n",
    "VALIDATION_PATH = os.path.sep.join(BASE_PATH, 'validation')"
   ]
  },
  {
   "cell_type": "code",
   "execution_count": null,
   "metadata": {},
   "outputs": [],
   "source": []
  }
 ],
 "metadata": {
  "kernelspec": {
   "display_name": "Python 3",
   "language": "python",
   "name": "python3"
  },
  "language_info": {
   "codemirror_mode": {
    "name": "ipython",
    "version": 3
   },
   "file_extension": ".py",
   "mimetype": "text/x-python",
   "name": "python",
   "nbconvert_exporter": "python",
   "pygments_lexer": "ipython3",
   "version": "3.7.3"
  }
 },
 "nbformat": 4,
 "nbformat_minor": 2
}